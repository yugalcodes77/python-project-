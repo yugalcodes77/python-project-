{
 "cells": [
  {
   "cell_type": "code",
   "execution_count": 1,
   "id": "31e88e7b-9148-487f-8c5f-621fb5c0505e",
   "metadata": {},
   "outputs": [
    {
     "name": "stdout",
     "output_type": "stream",
     "text": [
      "hello world\n"
     ]
    }
   ],
   "source": [
    "print(\"hello world\")"
   ]
  },
  {
   "cell_type": "code",
   "execution_count": null,
   "id": "1c3e64bb-988c-491a-8382-85f31cf5496e",
   "metadata": {},
   "outputs": [],
   "source": []
  },
  {
   "cell_type": "code",
   "execution_count": 5,
   "id": "55233364-32c8-45b9-8466-cd767bfde8d1",
   "metadata": {},
   "outputs": [
    {
     "name": "stdin",
     "output_type": "stream",
     "text": [
      "What is your Name..... ifjgnosjdfn\n"
     ]
    },
    {
     "name": "stdout",
     "output_type": "stream",
     "text": [
      "ifjgnosjdfn\n"
     ]
    }
   ],
   "source": [
    "yugal =input(\"What is your Name.....\")\n",
    "print(yugal)"
   ]
  },
  {
   "cell_type": "code",
   "execution_count": 7,
   "id": "87c3af0f-0a64-4f0f-8d78-868d1203d18d",
   "metadata": {},
   "outputs": [
    {
     "name": "stdout",
     "output_type": "stream",
     "text": [
      "What is your name ?\n"
     ]
    }
   ],
   "source": [
    "print(\"What is your name ?\")"
   ]
  },
  {
   "cell_type": "code",
   "execution_count": 13,
   "id": "1a6a5997-b080-4d6a-9565-2509cad0619d",
   "metadata": {},
   "outputs": [
    {
     "name": "stdin",
     "output_type": "stream",
     "text": [
      "What is your name ...? Yugal Shrestha\n"
     ]
    },
    {
     "name": "stdout",
     "output_type": "stream",
     "text": [
      "Yugal Shrestha\n"
     ]
    }
   ],
   "source": [
    "rabina=input(\"What is your name ...?\")\n",
    "print(rabina)"
   ]
  },
  {
   "cell_type": "code",
   "execution_count": null,
   "id": "27457729-7db6-4e7d-a616-0309f86eea9c",
   "metadata": {},
   "outputs": [],
   "source": []
  }
 ],
 "metadata": {
  "kernelspec": {
   "display_name": "Python 3 (ipykernel)",
   "language": "python",
   "name": "python3"
  },
  "language_info": {
   "codemirror_mode": {
    "name": "ipython",
    "version": 3
   },
   "file_extension": ".py",
   "mimetype": "text/x-python",
   "name": "python",
   "nbconvert_exporter": "python",
   "pygments_lexer": "ipython3",
   "version": "3.13.7"
  }
 },
 "nbformat": 4,
 "nbformat_minor": 5
}
