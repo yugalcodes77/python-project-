{
 "cells": [
  {
   "cell_type": "code",
   "execution_count": 2,
   "id": "40ef7a37-3a4d-49dd-a2d8-ecc543a5c46f",
   "metadata": {},
   "outputs": [
    {
     "name": "stdout",
     "output_type": "stream",
     "text": [
      "Requirement already satisfied: panda in c:\\users\\riyaa\\appdata\\local\\programs\\python\\python313\\lib\\site-packages (0.3.1)\n",
      "Requirement already satisfied: setuptools in c:\\users\\riyaa\\appdata\\local\\programs\\python\\python313\\lib\\site-packages (from panda) (80.9.0)\n",
      "Requirement already satisfied: requests in c:\\users\\riyaa\\appdata\\local\\programs\\python\\python313\\lib\\site-packages (from panda) (2.32.5)\n",
      "Requirement already satisfied: charset_normalizer<4,>=2 in c:\\users\\riyaa\\appdata\\local\\programs\\python\\python313\\lib\\site-packages (from requests->panda) (3.4.3)\n",
      "Requirement already satisfied: idna<4,>=2.5 in c:\\users\\riyaa\\appdata\\local\\programs\\python\\python313\\lib\\site-packages (from requests->panda) (3.10)\n",
      "Requirement already satisfied: urllib3<3,>=1.21.1 in c:\\users\\riyaa\\appdata\\local\\programs\\python\\python313\\lib\\site-packages (from requests->panda) (2.5.0)\n",
      "Requirement already satisfied: certifi>=2017.4.17 in c:\\users\\riyaa\\appdata\\local\\programs\\python\\python313\\lib\\site-packages (from requests->panda) (2025.8.3)\n"
     ]
    }
   ],
   "source": [
    "!pip install panda"
   ]
  },
  {
   "cell_type": "code",
   "execution_count": null,
   "id": "0ffeaed0-74cf-4470-a9c3-3044151a3faa",
   "metadata": {},
   "outputs": [],
   "source": []
  }
 ],
 "metadata": {
  "kernelspec": {
   "display_name": "Python 3 (ipykernel)",
   "language": "python",
   "name": "python3"
  },
  "language_info": {
   "codemirror_mode": {
    "name": "ipython",
    "version": 3
   },
   "file_extension": ".py",
   "mimetype": "text/x-python",
   "name": "python",
   "nbconvert_exporter": "python",
   "pygments_lexer": "ipython3",
   "version": "3.13.7"
  }
 },
 "nbformat": 4,
 "nbformat_minor": 5
}
